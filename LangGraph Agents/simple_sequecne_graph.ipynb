{
  "nbformat": 4,
  "nbformat_minor": 0,
  "metadata": {
    "colab": {
      "provenance": [],
      "authorship_tag": "ABX9TyM7/2nKNtbIoEr8KJESkIYl",
      "include_colab_link": true
    },
    "kernelspec": {
      "name": "python3",
      "display_name": "Python 3"
    },
    "language_info": {
      "name": "python"
    }
  },
  "cells": [
    {
      "cell_type": "markdown",
      "metadata": {
        "id": "view-in-github",
        "colab_type": "text"
      },
      "source": [
        "<a href=\"https://colab.research.google.com/github/BhaveshWadibhasme/Agentic-AI/blob/main/LangGraph%20Agents/simple_sequecne_graph.ipynb\" target=\"_parent\"><img src=\"https://colab.research.google.com/assets/colab-badge.svg\" alt=\"Open In Colab\"/></a>"
      ]
    },
    {
      "cell_type": "code",
      "execution_count": 1,
      "metadata": {
        "colab": {
          "base_uri": "https://localhost:8080/"
        },
        "id": "dWv5-c8r6ZwF",
        "outputId": "f9c0bafc-77b7-4277-881e-23509c83001a"
      },
      "outputs": [
        {
          "output_type": "stream",
          "name": "stdout",
          "text": [
            "\u001b[2K     \u001b[90m━━━━━━━━━━━━━━━━━━━━━━━━━━━━━━━━━━━━━━━\u001b[0m \u001b[32m43.7/43.7 kB\u001b[0m \u001b[31m735.1 kB/s\u001b[0m eta \u001b[36m0:00:00\u001b[0m\n",
            "\u001b[2K   \u001b[90m━━━━━━━━━━━━━━━━━━━━━━━━━━━━━━━━━━━━━━━━\u001b[0m \u001b[32m154.9/154.9 kB\u001b[0m \u001b[31m4.7 MB/s\u001b[0m eta \u001b[36m0:00:00\u001b[0m\n",
            "\u001b[2K   \u001b[90m━━━━━━━━━━━━━━━━━━━━━━━━━━━━━━━━━━━━━━━━\u001b[0m \u001b[32m44.2/44.2 kB\u001b[0m \u001b[31m2.1 MB/s\u001b[0m eta \u001b[36m0:00:00\u001b[0m\n",
            "\u001b[2K   \u001b[90m━━━━━━━━━━━━━━━━━━━━━━━━━━━━━━━━━━━━━━━━\u001b[0m \u001b[32m50.0/50.0 kB\u001b[0m \u001b[31m2.4 MB/s\u001b[0m eta \u001b[36m0:00:00\u001b[0m\n",
            "\u001b[2K   \u001b[90m━━━━━━━━━━━━━━━━━━━━━━━━━━━━━━━━━━━━━━━━\u001b[0m \u001b[32m216.5/216.5 kB\u001b[0m \u001b[31m10.3 MB/s\u001b[0m eta \u001b[36m0:00:00\u001b[0m\n",
            "\u001b[?25h"
          ]
        }
      ],
      "source": [
        "!pip install --quiet -U langgraph"
      ]
    },
    {
      "cell_type": "code",
      "source": [
        "# Define the state for langgraph\n",
        "from typing_extensions import TypedDict\n",
        "class State(TypedDict):\n",
        "  graph_state:str"
      ],
      "metadata": {
        "id": "N9q5TpJp6h8N"
      },
      "execution_count": 6,
      "outputs": []
    },
    {
      "cell_type": "code",
      "source": [
        "# Define the nodes\n",
        "\n",
        "def node1(state):\n",
        "  state['graph_state'] += \" Hello\"\n",
        "  print(\"Node1\")\n",
        "  return state\n",
        "\n",
        "def node2(state):\n",
        "  state['graph_state'] += ' Hi'\n",
        "  print(\"Node2\")\n",
        "  return state\n",
        "\n",
        "def node3(state):\n",
        "  print(\"Node3\")\n",
        "  state['graph_state'] += \" How are you!\"\n",
        "  return state"
      ],
      "metadata": {
        "id": "IlpPeB0-605G"
      },
      "execution_count": 18,
      "outputs": []
    },
    {
      "cell_type": "code",
      "source": [
        "# Build Sequential Graph\n",
        "from langgraph.graph import START, END, StateGraph\n",
        "from IPython.display import Image, display\n",
        "graph_builder = StateGraph(State)\n",
        "# add number of nodes in the graph. Here sequence of them is not mandatory.\n",
        "graph_builder.add_node(\"node1\", node1)\n",
        "graph_builder.add_node(\"node2\", node2)\n",
        "graph_builder.add_node(\"node3\", node3)\n",
        "\n",
        "# Define the edges of graph\n",
        "\n",
        "graph_builder.add_edge(START, \"node1\")\n",
        "graph_builder.add_edge(\"node1\", \"node2\")\n",
        "graph_builder.add_edge(\"node2\", \"node3\")\n",
        "graph_builder.add_edge(\"node3\", END)\n",
        "\n",
        "graph = graph_builder.compile()\n",
        "\n",
        "display(Image(graph.get_graph().draw_mermaid_png()))\n",
        "\n"
      ],
      "metadata": {
        "colab": {
          "base_uri": "https://localhost:8080/",
          "height": 449
        },
        "id": "PM-4LpDt7h4P",
        "outputId": "acd5e2f9-c44b-4b7c-a22d-f9d54cca0ee6"
      },
      "execution_count": 19,
      "outputs": [
        {
          "output_type": "display_data",
          "data": {
            "image/png": "[encoded data removed]",
            "text/plain": [
              "<IPython.core.display.Image object>"
            ]
          },
          "metadata": {}
        }
      ]
    },
    {
      "cell_type": "code",
      "source": [
        "graph.invoke({'graph_state':\"\"})"
      ],
      "metadata": {
        "colab": {
          "base_uri": "https://localhost:8080/"
        },
        "id": "aBn_ixaz9CqW",
        "outputId": "0fc6f53d-1da4-4981-9548-a469d1119eeb"
      },
      "execution_count": 20,
      "outputs": [
        {
          "output_type": "stream",
          "name": "stdout",
          "text": [
            "Node1\n",
            "Node2\n",
            "Node3\n"
          ]
        },
        {
          "output_type": "execute_result",
          "data": {
            "text/plain": [
              "{'graph_state': ' Hello Hi How are you!'}"
            ]
          },
          "metadata": {},
          "execution_count": 20
        }
      ]
    },
    {
      "cell_type": "code",
      "source": [],
      "metadata": {
        "id": "pHd_CScz9nps"
      },
      "execution_count": null,
      "outputs": []
    }
  ]
}